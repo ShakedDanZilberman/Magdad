{
 "cells": [
  {
   "cell_type": "code",
   "execution_count": 1,
   "metadata": {},
   "outputs": [
    {
     "name": "stdout",
     "output_type": "stream",
     "text": [
      "All imports were successful.\n"
     ]
    }
   ],
   "source": [
    "from import_defence import ImportDefence\n",
    "\n",
    "with ImportDefence():\n",
    "    import cv2\n",
    "    import numpy as np\n",
    "    from pyfirmata import Arduino, util\n",
    "    import matplotlib.pyplot as plt\n",
    "    \n",
    "from laser import LaserPointer\n",
    "from gun import Gun, DummyGun\n"
   ]
  },
  {
   "cell_type": "code",
   "execution_count": 8,
   "metadata": {},
   "outputs": [
    {
     "data": {
      "text/plain": [
       "<gun.Gun at 0x257bbe8b5e0>"
      ]
     },
     "execution_count": 8,
     "metadata": {},
     "output_type": "execute_result"
    }
   ],
   "source": [
    "gun = Gun()\n",
    "gun"
   ]
  },
  {
   "cell_type": "code",
   "execution_count": 10,
   "metadata": {},
   "outputs": [],
   "source": [
    "gun.rotate(30)\n",
    "\n",
    "# gun.shoot()"
   ]
  },
  {
   "cell_type": "code",
   "execution_count": 14,
   "metadata": {},
   "outputs": [
    {
     "name": "stdout",
     "output_type": "stream",
     "text": [
      "Stepper moved 240 steps.\n",
      "Stepper moved -100 steps.\n"
     ]
    }
   ],
   "source": [
    "import serial\n",
    "import time\n",
    "\n",
    "def move_stepper(steps):\n",
    "    with serial.Serial('COM5', 9600, timeout=1) as ser:\n",
    "        time.sleep(2)  # Allow Arduino to reset\n",
    "        ser.write(f\"{steps}\\n\".encode())\n",
    "        while True:\n",
    "            response = ser.readline().decode().strip()\n",
    "            if response == \"Done\":\n",
    "                print(f\"Stepper moved {steps} steps.\")\n",
    "                break\n",
    "\n",
    "# Example usage\n",
    "move_stepper(240)  # Move 200 steps forward\n",
    "move_stepper(-100)  # Move 100 steps backward\n"
   ]
  }
 ],
 "metadata": {
  "kernelspec": {
   "display_name": "Python 3",
   "language": "python",
   "name": "python3"
  },
  "language_info": {
   "codemirror_mode": {
    "name": "ipython",
    "version": 3
   },
   "file_extension": ".py",
   "mimetype": "text/x-python",
   "name": "python",
   "nbconvert_exporter": "python",
   "pygments_lexer": "ipython3",
   "version": "3.10.11"
  }
 },
 "nbformat": 4,
 "nbformat_minor": 2
}
